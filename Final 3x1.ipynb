{
 "cells": [
  {
   "cell_type": "code",
   "execution_count": 61,
   "metadata": {
    "collapsed": true
   },
   "outputs": [],
   "source": [
    "%matplotlib inline\n",
    "\n",
    "import pandas as pd\n",
    "\n",
    "# these will be useful later\n",
    "import numpy  as np\n",
    "from matplotlib import pyplot as plt"
   ]
  },
  {
   "cell_type": "code",
   "execution_count": 62,
   "metadata": {
    "collapsed": false
   },
   "outputs": [],
   "source": [
    "x31_13=pd.read_csv(\"hom_3x1_13.csv\")\n",
    "x31_14=pd.read_csv(\"hom_3x1_14.csv\")\n",
    "cols_to_use = x31_13.columns.difference(x31_14.columns)"
   ]
  },
  {
   "cell_type": "code",
   "execution_count": 63,
   "metadata": {
    "collapsed": false
   },
   "outputs": [],
   "source": [
    "tot3x1 = x31_13.merge(x31_14, left_index=True, right_index=True, how='outer', suffixes=('', '_y'))"
   ]
  },
  {
   "cell_type": "code",
   "execution_count": null,
   "metadata": {
    "collapsed": false
   },
   "outputs": [],
   "source": []
  },
  {
   "cell_type": "code",
   "execution_count": 64,
   "metadata": {
    "collapsed": false
   },
   "outputs": [],
   "source": [
    "tot3x1 = tot3x1.drop('year_y', axis=1)\n",
    "tot3x1 = tot3x1.drop('id_y', axis=1)\n",
    "tot3x1 = tot3x1.drop('ENTIDAD_y', axis=1)\n",
    "tot3x1 = tot3x1.drop('MUNICIPIO_y', axis=1)\n",
    "tot3x1 = tot3x1.drop('year', axis=1)\n",
    "tot3x1 = tot3x1.drop('Servicios Comunitarios 2013', axis=1)\n",
    "tot3x1 = tot3x1.drop('Servicios Comunitarios 2014', axis=1)\n",
    "tot3x1 = tot3x1.drop('Infraestructura 2014', axis=1)\n",
    "tot3x1 = tot3x1.drop('Infraestructura 2013', axis=1)\n",
    "tot3x1 = tot3x1.drop('Proyectos Productivos 2014', axis=1)\n",
    "tot3x1 = tot3x1.drop('Proyectos Productivos 2013', axis=1)\n"
   ]
  },
  {
   "cell_type": "code",
   "execution_count": 65,
   "metadata": {
    "collapsed": false
   },
   "outputs": [
    {
     "data": {
      "text/html": [
       "<div>\n",
       "<table border=\"1\" class=\"dataframe\">\n",
       "  <thead>\n",
       "    <tr style=\"text-align: right;\">\n",
       "      <th></th>\n",
       "      <th>id</th>\n",
       "      <th>ENTIDAD</th>\n",
       "      <th>MUNICIPIO</th>\n",
       "      <th>hom_rate 13</th>\n",
       "      <th>Total 3x1 2013</th>\n",
       "      <th>hom_rate 14</th>\n",
       "      <th>Total 3x1 2014</th>\n",
       "    </tr>\n",
       "  </thead>\n",
       "  <tbody>\n",
       "    <tr>\n",
       "      <th>0</th>\n",
       "      <td>1001.0</td>\n",
       "      <td>AGUASCALIENTES</td>\n",
       "      <td>AGUASCALIENTES</td>\n",
       "      <td>2.383910</td>\n",
       "      <td>6.0</td>\n",
       "      <td>3.889537</td>\n",
       "      <td>6</td>\n",
       "    </tr>\n",
       "    <tr>\n",
       "      <th>1</th>\n",
       "      <td>1002.0</td>\n",
       "      <td>AGUASCALIENTES</td>\n",
       "      <td>ASIENTOS</td>\n",
       "      <td>10.990943</td>\n",
       "      <td>2.0</td>\n",
       "      <td>0.000000</td>\n",
       "      <td>9</td>\n",
       "    </tr>\n",
       "    <tr>\n",
       "      <th>2</th>\n",
       "      <td>1003.0</td>\n",
       "      <td>AGUASCALIENTES</td>\n",
       "      <td>CALVILLO</td>\n",
       "      <td>0.000000</td>\n",
       "      <td>17.0</td>\n",
       "      <td>3.694399</td>\n",
       "      <td>10</td>\n",
       "    </tr>\n",
       "    <tr>\n",
       "      <th>3</th>\n",
       "      <td>1004.0</td>\n",
       "      <td>AGUASCALIENTES</td>\n",
       "      <td>COSIO</td>\n",
       "      <td>0.000000</td>\n",
       "      <td>2.0</td>\n",
       "      <td>0.000000</td>\n",
       "      <td>5</td>\n",
       "    </tr>\n",
       "    <tr>\n",
       "      <th>4</th>\n",
       "      <td>1006.0</td>\n",
       "      <td>AGUASCALIENTES</td>\n",
       "      <td>PABELLON DE ARTEAGA</td>\n",
       "      <td>2.388801</td>\n",
       "      <td>1.0</td>\n",
       "      <td>6.024701</td>\n",
       "      <td>2</td>\n",
       "    </tr>\n",
       "  </tbody>\n",
       "</table>\n",
       "</div>"
      ],
      "text/plain": [
       "       id         ENTIDAD            MUNICIPIO  hom_rate 13  Total 3x1 2013  \\\n",
       "0  1001.0  AGUASCALIENTES       AGUASCALIENTES     2.383910             6.0   \n",
       "1  1002.0  AGUASCALIENTES             ASIENTOS    10.990943             2.0   \n",
       "2  1003.0  AGUASCALIENTES             CALVILLO     0.000000            17.0   \n",
       "3  1004.0  AGUASCALIENTES                COSIO     0.000000             2.0   \n",
       "4  1006.0  AGUASCALIENTES  PABELLON DE ARTEAGA     2.388801             1.0   \n",
       "\n",
       "   hom_rate 14  Total 3x1 2014  \n",
       "0     3.889537               6  \n",
       "1     0.000000               9  \n",
       "2     3.694399              10  \n",
       "3     0.000000               5  \n",
       "4     6.024701               2  "
      ]
     },
     "execution_count": 65,
     "metadata": {},
     "output_type": "execute_result"
    }
   ],
   "source": [
    "tot3x1.head()"
   ]
  },
  {
   "cell_type": "code",
   "execution_count": 66,
   "metadata": {
    "collapsed": true
   },
   "outputs": [],
   "source": [
    "tot3x1.to_csv('total_hom_3x1.csv')"
   ]
  },
  {
   "cell_type": "code",
   "execution_count": null,
   "metadata": {
    "collapsed": true
   },
   "outputs": [],
   "source": []
  }
 ],
 "metadata": {
  "kernelspec": {
   "display_name": "Python [Root]",
   "language": "python",
   "name": "Python [Root]"
  },
  "language_info": {
   "codemirror_mode": {
    "name": "ipython",
    "version": 3
   },
   "file_extension": ".py",
   "mimetype": "text/x-python",
   "name": "python",
   "nbconvert_exporter": "python",
   "pygments_lexer": "ipython3",
   "version": "3.5.2"
  }
 },
 "nbformat": 4,
 "nbformat_minor": 0
}
