{
 "cells": [
  {
   "cell_type": "code",
   "execution_count": 1,
   "metadata": {
    "collapsed": false
   },
   "outputs": [],
   "source": [
    "%matplotlib inline\n",
    "\n",
    "import pandas as pd\n",
    "\n",
    "# these will be useful later\n",
    "import numpy  as np\n",
    "from matplotlib import pyplot as plt"
   ]
  },
  {
   "cell_type": "code",
   "execution_count": 3,
   "metadata": {
    "collapsed": false,
    "scrolled": true
   },
   "outputs": [],
   "source": [
    "crime=pd.read_csv(\"mun.csv\", index_col = \"id\", parse_dates = [\"id\"], encoding='iso-8859-1')\n",
    "crime=crime.drop('SUBTIPO', axis=1)\n"
   ]
  },
  {
   "cell_type": "code",
   "execution_count": 4,
   "metadata": {
    "collapsed": false,
    "scrolled": true
   },
   "outputs": [],
   "source": [
    "hom14= crime[(crime['MODALIDAD']=='HOMICIDIOS') & (crime['TIPO'] == 'DOLOSOS' )]\n",
    "hom14= hom14.groupby([hom14.index,'year','ENTIDAD', 'MUNICIPIO']).sum().reset_index()\n",
    "hom14=hom14.set_index(['id'])\n",
    "hom14=hom14[hom14.year == 2014]\n",
    "hom14=hom14.rename(columns = {'total':'homicidios'})\n"
   ]
  },
  {
   "cell_type": "code",
   "execution_count": 5,
   "metadata": {
    "collapsed": false
   },
   "outputs": [],
   "source": [
    "pop=pd.read_csv(\"pop.csv\", index_col = \"id\", parse_dates = [\"id\"], encoding='iso-8859-1')\n",
    "pop=pop.drop('hom', axis=1)\n",
    "pop=pop.drop('muj', axis=1)\n"
   ]
  },
  {
   "cell_type": "code",
   "execution_count": 10,
   "metadata": {
    "collapsed": false
   },
   "outputs": [],
   "source": [
    "tot14 = pd.concat([hom14, pop], axis=1)\n",
    "tot14= tot14.drop('nom', axis=1)\n",
    "tot14['hom_rate'] = (tot14['homicidios']/tot14['pop'])*100000\n"
   ]
  },
  {
   "cell_type": "code",
   "execution_count": 11,
   "metadata": {
    "collapsed": false
   },
   "outputs": [
    {
     "data": {
      "text/html": [
       "<div>\n",
       "<table border=\"1\" class=\"dataframe\">\n",
       "  <thead>\n",
       "    <tr style=\"text-align: right;\">\n",
       "      <th></th>\n",
       "      <th>ClaveEntidad</th>\n",
       "      <th>NombreEntidad</th>\n",
       "      <th>ClaveMunicipio</th>\n",
       "      <th>NombreMunicipio</th>\n",
       "      <th>agua</th>\n",
       "      <th>drenaje</th>\n",
       "      <th>electrificacion</th>\n",
       "      <th>infraestructuraDeportiva</th>\n",
       "      <th>infraestructuraEducativa</th>\n",
       "      <th>infraestructuraSalud</th>\n",
       "      <th>bancosalimentos</th>\n",
       "      <th>ccas</th>\n",
       "      <th>otrasInfraestructura</th>\n",
       "      <th>suma</th>\n",
       "      <th>year</th>\n",
       "    </tr>\n",
       "    <tr>\n",
       "      <th>id</th>\n",
       "      <th></th>\n",
       "      <th></th>\n",
       "      <th></th>\n",
       "      <th></th>\n",
       "      <th></th>\n",
       "      <th></th>\n",
       "      <th></th>\n",
       "      <th></th>\n",
       "      <th></th>\n",
       "      <th></th>\n",
       "      <th></th>\n",
       "      <th></th>\n",
       "      <th></th>\n",
       "      <th></th>\n",
       "      <th></th>\n",
       "    </tr>\n",
       "  </thead>\n",
       "  <tbody>\n",
       "    <tr>\n",
       "      <th>2001</th>\n",
       "      <td>2</td>\n",
       "      <td>Baja California</td>\n",
       "      <td>1</td>\n",
       "      <td>Ensenada</td>\n",
       "      <td>0</td>\n",
       "      <td>0</td>\n",
       "      <td>0</td>\n",
       "      <td>0</td>\n",
       "      <td>0</td>\n",
       "      <td>0</td>\n",
       "      <td>0</td>\n",
       "      <td>0</td>\n",
       "      <td>7</td>\n",
       "      <td>7</td>\n",
       "      <td>2014</td>\n",
       "    </tr>\n",
       "    <tr>\n",
       "      <th>2003</th>\n",
       "      <td>2</td>\n",
       "      <td>Baja California</td>\n",
       "      <td>3</td>\n",
       "      <td>Tecate</td>\n",
       "      <td>0</td>\n",
       "      <td>0</td>\n",
       "      <td>0</td>\n",
       "      <td>0</td>\n",
       "      <td>0</td>\n",
       "      <td>0</td>\n",
       "      <td>0</td>\n",
       "      <td>0</td>\n",
       "      <td>3</td>\n",
       "      <td>3</td>\n",
       "      <td>2014</td>\n",
       "    </tr>\n",
       "    <tr>\n",
       "      <th>2004</th>\n",
       "      <td>2</td>\n",
       "      <td>Baja California</td>\n",
       "      <td>4</td>\n",
       "      <td>Tijuana</td>\n",
       "      <td>0</td>\n",
       "      <td>0</td>\n",
       "      <td>0</td>\n",
       "      <td>0</td>\n",
       "      <td>0</td>\n",
       "      <td>0</td>\n",
       "      <td>0</td>\n",
       "      <td>0</td>\n",
       "      <td>15</td>\n",
       "      <td>15</td>\n",
       "      <td>2014</td>\n",
       "    </tr>\n",
       "    <tr>\n",
       "      <th>2005</th>\n",
       "      <td>2</td>\n",
       "      <td>Baja California</td>\n",
       "      <td>5</td>\n",
       "      <td>Playas de Rosarito</td>\n",
       "      <td>0</td>\n",
       "      <td>0</td>\n",
       "      <td>0</td>\n",
       "      <td>0</td>\n",
       "      <td>0</td>\n",
       "      <td>0</td>\n",
       "      <td>0</td>\n",
       "      <td>0</td>\n",
       "      <td>1</td>\n",
       "      <td>1</td>\n",
       "      <td>2014</td>\n",
       "    </tr>\n",
       "    <tr>\n",
       "      <th>3001</th>\n",
       "      <td>3</td>\n",
       "      <td>Baja California Sur</td>\n",
       "      <td>1</td>\n",
       "      <td>Comond_</td>\n",
       "      <td>0</td>\n",
       "      <td>0</td>\n",
       "      <td>0</td>\n",
       "      <td>0</td>\n",
       "      <td>0</td>\n",
       "      <td>0</td>\n",
       "      <td>0</td>\n",
       "      <td>2</td>\n",
       "      <td>0</td>\n",
       "      <td>2</td>\n",
       "      <td>2014</td>\n",
       "    </tr>\n",
       "  </tbody>\n",
       "</table>\n",
       "</div>"
      ],
      "text/plain": [
       "      ClaveEntidad        NombreEntidad  ClaveMunicipio     NombreMunicipio  \\\n",
       "id                                                                            \n",
       "2001             2      Baja California               1            Ensenada   \n",
       "2003             2      Baja California               3              Tecate   \n",
       "2004             2      Baja California               4             Tijuana   \n",
       "2005             2      Baja California               5  Playas de Rosarito   \n",
       "3001             3  Baja California Sur               1             Comond_   \n",
       "\n",
       "      agua  drenaje  electrificacion  infraestructuraDeportiva  \\\n",
       "id                                                               \n",
       "2001     0        0                0                         0   \n",
       "2003     0        0                0                         0   \n",
       "2004     0        0                0                         0   \n",
       "2005     0        0                0                         0   \n",
       "3001     0        0                0                         0   \n",
       "\n",
       "      infraestructuraEducativa  infraestructuraSalud  bancosalimentos  ccas  \\\n",
       "id                                                                            \n",
       "2001                         0                     0                0     0   \n",
       "2003                         0                     0                0     0   \n",
       "2004                         0                     0                0     0   \n",
       "2005                         0                     0                0     0   \n",
       "3001                         0                     0                0     2   \n",
       "\n",
       "      otrasInfraestructura  suma  year  \n",
       "id                                      \n",
       "2001                     7     7  2014  \n",
       "2003                     3     3  2014  \n",
       "2004                    15    15  2014  \n",
       "2005                     1     1  2014  \n",
       "3001                     0     2  2014  "
      ]
     },
     "execution_count": 11,
     "metadata": {},
     "output_type": "execute_result"
    }
   ],
   "source": [
    "pdzp14 = pd.read_csv(\"PDZP_2014utf8.csv\", index_col = \"id\", parse_dates = [\"id\"])\n",
    "pdzp14.head(5)"
   ]
  },
  {
   "cell_type": "code",
   "execution_count": 12,
   "metadata": {
    "collapsed": false
   },
   "outputs": [
    {
     "data": {
      "text/html": [
       "<div>\n",
       "<table border=\"1\" class=\"dataframe\">\n",
       "  <thead>\n",
       "    <tr style=\"text-align: right;\">\n",
       "      <th></th>\n",
       "      <th>year</th>\n",
       "      <th>ENTIDAD</th>\n",
       "      <th>MUNICIPIO</th>\n",
       "      <th>homicidios</th>\n",
       "      <th>pop</th>\n",
       "      <th>hom_rate</th>\n",
       "      <th>Total Servicios 2014</th>\n",
       "    </tr>\n",
       "    <tr>\n",
       "      <th>id</th>\n",
       "      <th></th>\n",
       "      <th></th>\n",
       "      <th></th>\n",
       "      <th></th>\n",
       "      <th></th>\n",
       "      <th></th>\n",
       "      <th></th>\n",
       "    </tr>\n",
       "  </thead>\n",
       "  <tbody>\n",
       "    <tr>\n",
       "      <th>1001</th>\n",
       "      <td>2014.0</td>\n",
       "      <td>AGUASCALIENTES</td>\n",
       "      <td>AGUASCALIENTES</td>\n",
       "      <td>31.0</td>\n",
       "      <td>797010.0</td>\n",
       "      <td>3.889537</td>\n",
       "      <td>NaN</td>\n",
       "    </tr>\n",
       "    <tr>\n",
       "      <th>1002</th>\n",
       "      <td>2014.0</td>\n",
       "      <td>AGUASCALIENTES</td>\n",
       "      <td>ASIENTOS</td>\n",
       "      <td>0.0</td>\n",
       "      <td>45492.0</td>\n",
       "      <td>0.000000</td>\n",
       "      <td>NaN</td>\n",
       "    </tr>\n",
       "    <tr>\n",
       "      <th>1003</th>\n",
       "      <td>2014.0</td>\n",
       "      <td>AGUASCALIENTES</td>\n",
       "      <td>CALVILLO</td>\n",
       "      <td>2.0</td>\n",
       "      <td>54136.0</td>\n",
       "      <td>3.694399</td>\n",
       "      <td>NaN</td>\n",
       "    </tr>\n",
       "    <tr>\n",
       "      <th>1004</th>\n",
       "      <td>2014.0</td>\n",
       "      <td>AGUASCALIENTES</td>\n",
       "      <td>COSIO</td>\n",
       "      <td>0.0</td>\n",
       "      <td>15042.0</td>\n",
       "      <td>0.000000</td>\n",
       "      <td>NaN</td>\n",
       "    </tr>\n",
       "    <tr>\n",
       "      <th>1005</th>\n",
       "      <td>2014.0</td>\n",
       "      <td>AGUASCALIENTES</td>\n",
       "      <td>JESUS MARIA</td>\n",
       "      <td>6.0</td>\n",
       "      <td>99590.0</td>\n",
       "      <td>6.024701</td>\n",
       "      <td>NaN</td>\n",
       "    </tr>\n",
       "  </tbody>\n",
       "</table>\n",
       "</div>"
      ],
      "text/plain": [
       "        year         ENTIDAD       MUNICIPIO  homicidios       pop  hom_rate  \\\n",
       "id                                                                             \n",
       "1001  2014.0  AGUASCALIENTES  AGUASCALIENTES        31.0  797010.0  3.889537   \n",
       "1002  2014.0  AGUASCALIENTES        ASIENTOS         0.0   45492.0  0.000000   \n",
       "1003  2014.0  AGUASCALIENTES        CALVILLO         2.0   54136.0  3.694399   \n",
       "1004  2014.0  AGUASCALIENTES           COSIO         0.0   15042.0  0.000000   \n",
       "1005  2014.0  AGUASCALIENTES     JESUS MARIA         6.0   99590.0  6.024701   \n",
       "\n",
       "      Total Servicios 2014  \n",
       "id                          \n",
       "1001                   NaN  \n",
       "1002                   NaN  \n",
       "1003                   NaN  \n",
       "1004                   NaN  \n",
       "1005                   NaN  "
      ]
     },
     "execution_count": 12,
     "metadata": {},
     "output_type": "execute_result"
    }
   ],
   "source": [
    "pdzp14  = pdzp14.drop('ClaveEntidad', axis=1)\n",
    "pdzp14  = pdzp14.drop('ClaveMunicipio', axis=1)\n",
    "pdzp14  = pdzp14.drop('NombreEntidad', axis=1)\n",
    "pdzp14  = pdzp14.drop('NombreMunicipio', axis=1)\n",
    "pdzp14  = pdzp14.drop('bancosalimentos', axis=1)\n",
    "pdzp14  = pdzp14.drop('agua', axis=1)\n",
    "pdzp14  = pdzp14.drop('drenaje', axis=1)\n",
    "pdzp14  = pdzp14.drop('electrificacion', axis=1)\n",
    "pdzp14  = pdzp14.drop('ccas', axis=1)\n",
    "pdzp14  = pdzp14.drop('otrasInfraestructura', axis=1)\n",
    "pdzp14  = pdzp14.drop('infraestructuraEducativa', axis=1)\n",
    "pdzp14  = pdzp14.drop('infraestructuraSalud', axis=1)\n",
    "pdzp14  = pdzp14.drop('infraestructuraDeportiva', axis=1)\n",
    "pdzp14  = pdzp14.drop('year', axis=1)\n",
    "pdzp14  = pdzp14.rename(columns = {'suma':'Total Servicios 2014'})\n",
    "tot14 = tot14.join(pdzp14)\n",
    "tot14.head()\n"
   ]
  },
  {
   "cell_type": "code",
   "execution_count": null,
   "metadata": {
    "collapsed": false
   },
   "outputs": [],
   "source": []
  },
  {
   "cell_type": "code",
   "execution_count": null,
   "metadata": {
    "collapsed": false
   },
   "outputs": [],
   "source": [
    "\n",
    "\n"
   ]
  },
  {
   "cell_type": "code",
   "execution_count": null,
   "metadata": {
    "collapsed": false
   },
   "outputs": [],
   "source": []
  },
  {
   "cell_type": "code",
   "execution_count": null,
   "metadata": {
    "collapsed": false,
    "scrolled": true
   },
   "outputs": [],
   "source": []
  },
  {
   "cell_type": "markdown",
   "metadata": {},
   "source": []
  },
  {
   "cell_type": "code",
   "execution_count": 13,
   "metadata": {
    "collapsed": false
   },
   "outputs": [
    {
     "data": {
      "text/plain": [
       "<matplotlib.axes._subplots.AxesSubplot at 0x49a8dd8>"
      ]
     },
     "execution_count": 13,
     "metadata": {},
     "output_type": "execute_result"
    },
    {
     "data": {
      "image/png": "[encoded data removed]",
      "text/plain": [
       "<matplotlib.figure.Figure at 0x49ba160>"
      ]
     },
     "metadata": {},
     "output_type": "display_data"
    }
   ],
   "source": [
    "tot14.plot(kind = \"scatter\", x = \"Total Servicios 2014\", y = \"hom_rate\")"
   ]
  },
  {
   "cell_type": "code",
   "execution_count": null,
   "metadata": {
    "collapsed": true
   },
   "outputs": [],
   "source": []
  },
  {
   "cell_type": "code",
   "execution_count": null,
   "metadata": {
    "collapsed": true
   },
   "outputs": [],
   "source": []
  }
 ],
 "metadata": {
  "anaconda-cloud": {},
  "kernelspec": {
   "display_name": "Python [p34-geo-new]",
   "language": "python",
   "name": "Python [p34-geo-new]"
  },
  "language_info": {
   "codemirror_mode": {
    "name": "ipython",
    "version": 3
   },
   "file_extension": ".py",
   "mimetype": "text/x-python",
   "name": "python",
   "nbconvert_exporter": "python",
   "pygments_lexer": "ipython3",
   "version": "3.4.5"
  }
 },
 "nbformat": 4,
 "nbformat_minor": 0
}
