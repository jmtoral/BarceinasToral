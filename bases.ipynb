{
 "cells": [
  {
   "cell_type": "code",
   "execution_count": 6,
   "metadata": {
    "collapsed": false
   },
   "outputs": [],
   "source": [
    "%matplotlib inline\n",
    "\n",
    "import pandas as pd\n",
    "\n",
    "# these will be useful later\n",
    "import numpy  as np\n",
    "from matplotlib import pyplot as plt"
   ]
  },
  {
   "cell_type": "code",
   "execution_count": 22,
   "metadata": {
    "collapsed": false,
    "scrolled": true
   },
   "outputs": [
    {
     "data": {
      "text/html": [
       "<div>\n",
       "<table border=\"1\" class=\"dataframe\">\n",
       "  <thead>\n",
       "    <tr style=\"text-align: right;\">\n",
       "      <th></th>\n",
       "      <th>year</th>\n",
       "      <th>ENTIDAD</th>\n",
       "      <th>MUNICIPIO</th>\n",
       "      <th>MODALIDAD</th>\n",
       "      <th>TIPO</th>\n",
       "      <th>SUBTIPO</th>\n",
       "      <th>total</th>\n",
       "    </tr>\n",
       "    <tr>\n",
       "      <th>id</th>\n",
       "      <th></th>\n",
       "      <th></th>\n",
       "      <th></th>\n",
       "      <th></th>\n",
       "      <th></th>\n",
       "      <th></th>\n",
       "      <th></th>\n",
       "    </tr>\n",
       "  </thead>\n",
       "  <tbody>\n",
       "    <tr>\n",
       "      <th>32058</th>\n",
       "      <td>2016</td>\n",
       "      <td>ZACATECAS</td>\n",
       "      <td>SANTA MARIA DE LA PAZ</td>\n",
       "      <td>DELITOS SEXUALES (VIOLACION)</td>\n",
       "      <td>VIOLACION</td>\n",
       "      <td>VIOLACION</td>\n",
       "      <td>0</td>\n",
       "    </tr>\n",
       "    <tr>\n",
       "      <th>32058</th>\n",
       "      <td>2016</td>\n",
       "      <td>ZACATECAS</td>\n",
       "      <td>SANTA MARIA DE LA PAZ</td>\n",
       "      <td>OTROS DELITOS</td>\n",
       "      <td>AMENAZAS</td>\n",
       "      <td>AMENAZAS</td>\n",
       "      <td>0</td>\n",
       "    </tr>\n",
       "    <tr>\n",
       "      <th>32058</th>\n",
       "      <td>2016</td>\n",
       "      <td>ZACATECAS</td>\n",
       "      <td>SANTA MARIA DE LA PAZ</td>\n",
       "      <td>OTROS DELITOS</td>\n",
       "      <td>ESTUPRO</td>\n",
       "      <td>ESTUPRO</td>\n",
       "      <td>0</td>\n",
       "    </tr>\n",
       "    <tr>\n",
       "      <th>32058</th>\n",
       "      <td>2016</td>\n",
       "      <td>ZACATECAS</td>\n",
       "      <td>SANTA MARIA DE LA PAZ</td>\n",
       "      <td>OTROS DELITOS</td>\n",
       "      <td>OTROS SEXUALES</td>\n",
       "      <td>OTROS SEXUALES</td>\n",
       "      <td>0</td>\n",
       "    </tr>\n",
       "    <tr>\n",
       "      <th>32058</th>\n",
       "      <td>2016</td>\n",
       "      <td>ZACATECAS</td>\n",
       "      <td>SANTA MARIA DE LA PAZ</td>\n",
       "      <td>OTROS DELITOS</td>\n",
       "      <td>RESTO DE LOS DELITOS (OTROS)</td>\n",
       "      <td>RESTO DE LOS DELITOS (OTROS)</td>\n",
       "      <td>5</td>\n",
       "    </tr>\n",
       "  </tbody>\n",
       "</table>\n",
       "</div>"
      ],
      "text/plain": [
       "       year    ENTIDAD              MUNICIPIO                     MODALIDAD  \\\n",
       "id                                                                            \n",
       "32058  2016  ZACATECAS  SANTA MARIA DE LA PAZ  DELITOS SEXUALES (VIOLACION)   \n",
       "32058  2016  ZACATECAS  SANTA MARIA DE LA PAZ                 OTROS DELITOS   \n",
       "32058  2016  ZACATECAS  SANTA MARIA DE LA PAZ                 OTROS DELITOS   \n",
       "32058  2016  ZACATECAS  SANTA MARIA DE LA PAZ                 OTROS DELITOS   \n",
       "32058  2016  ZACATECAS  SANTA MARIA DE LA PAZ                 OTROS DELITOS   \n",
       "\n",
       "                               TIPO                       SUBTIPO  total  \n",
       "id                                                                        \n",
       "32058                     VIOLACION                     VIOLACION      0  \n",
       "32058                      AMENAZAS                      AMENAZAS      0  \n",
       "32058                       ESTUPRO                       ESTUPRO      0  \n",
       "32058                OTROS SEXUALES                OTROS SEXUALES      0  \n",
       "32058  RESTO DE LOS DELITOS (OTROS)  RESTO DE LOS DELITOS (OTROS)      5  "
      ]
     },
     "execution_count": 22,
     "metadata": {},
     "output_type": "execute_result"
    }
   ],
   "source": [
    "crime=pd.read_csv(\"mun.csv\", index_col = \"id\", parse_dates = [\"id\"], encoding='iso-8859-1')\n",
    "crime.tail(5)"
   ]
  },
  {
   "cell_type": "code",
   "execution_count": 31,
   "metadata": {
    "collapsed": false
   },
   "outputs": [
    {
     "data": {
      "text/html": [
       "<div>\n",
       "<table border=\"1\" class=\"dataframe\">\n",
       "  <thead>\n",
       "    <tr style=\"text-align: right;\">\n",
       "      <th></th>\n",
       "      <th>year</th>\n",
       "      <th>total</th>\n",
       "    </tr>\n",
       "    <tr>\n",
       "      <th>MUNICIPIO</th>\n",
       "      <th></th>\n",
       "      <th></th>\n",
       "    </tr>\n",
       "  </thead>\n",
       "  <tbody>\n",
       "    <tr>\n",
       "      <th>ABALA</th>\n",
       "      <td>797346</td>\n",
       "      <td>23</td>\n",
       "    </tr>\n",
       "    <tr>\n",
       "      <th>ABASOLO</th>\n",
       "      <td>3189384</td>\n",
       "      <td>6639</td>\n",
       "    </tr>\n",
       "    <tr>\n",
       "      <th>ABEJONES</th>\n",
       "      <td>398706</td>\n",
       "      <td>0</td>\n",
       "    </tr>\n",
       "    <tr>\n",
       "      <th>ACACOYAGUA</th>\n",
       "      <td>797346</td>\n",
       "      <td>408</td>\n",
       "    </tr>\n",
       "    <tr>\n",
       "      <th>ACAJETE</th>\n",
       "      <td>1594692</td>\n",
       "      <td>1344</td>\n",
       "    </tr>\n",
       "  </tbody>\n",
       "</table>\n",
       "</div>"
      ],
      "text/plain": [
       "               year  total\n",
       "MUNICIPIO                 \n",
       "ABALA        797346     23\n",
       "ABASOLO     3189384   6639\n",
       "ABEJONES     398706      0\n",
       "ACACOYAGUA   797346    408\n",
       "ACAJETE     1594692   1344"
      ]
     },
     "execution_count": 31,
     "metadata": {},
     "output_type": "execute_result"
    }
   ],
   "source": [
    "crimg = crime.groupby(['MUNICIPIO', 'MODALIDAD'])\n",
    "crimg= crime.groupby(\"MUNICIPIO\").sum()\n",
    "crimg.head(5)"
   ]
  },
  {
   "cell_type": "code",
   "execution_count": null,
   "metadata": {
    "collapsed": true
   },
   "outputs": [],
   "source": []
  },
  {
   "cell_type": "code",
   "execution_count": null,
   "metadata": {
    "collapsed": true
   },
   "outputs": [],
   "source": []
  }
 ],
 "metadata": {
  "anaconda-cloud": {},
  "kernelspec": {
   "display_name": "Python [p34-geo-new]",
   "language": "python",
   "name": "Python [p34-geo-new]"
  },
  "language_info": {
   "codemirror_mode": {
    "name": "ipython",
    "version": 3
   },
   "file_extension": ".py",
   "mimetype": "text/x-python",
   "name": "python",
   "nbconvert_exporter": "python",
   "pygments_lexer": "ipython3",
   "version": "3.4.5"
  }
 },
 "nbformat": 4,
 "nbformat_minor": 0
}
