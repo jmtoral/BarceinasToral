{
 "cells": [
  {
   "cell_type": "code",
   "execution_count": 26,
   "metadata": {
    "collapsed": false
   },
   "outputs": [],
   "source": [
    "%matplotlib inline\n",
    "\n",
    "import pandas as pd\n",
    "\n",
    "# these will be useful later\n",
    "import numpy  as np\n",
    "from matplotlib import pyplot as plt"
   ]
  },
  {
   "cell_type": "code",
   "execution_count": 27,
   "metadata": {
    "collapsed": false,
    "scrolled": true
   },
   "outputs": [],
   "source": [
    "crime=pd.read_csv(\"mun.csv\", index_col = \"id\", parse_dates = [\"id\"], encoding='iso-8859-1')\n",
    "crime=crime.drop('SUBTIPO', axis=1)"
   ]
  },
  {
   "cell_type": "code",
   "execution_count": 28,
   "metadata": {
    "collapsed": false,
    "scrolled": true
   },
   "outputs": [],
   "source": [
    "hom13= crime[(crime['MODALIDAD']=='HOMICIDIOS') & (crime['TIPO'] == 'DOLOSOS' )]\n",
    "hom13= hom13.groupby([hom13.index,'year','ENTIDAD', 'MUNICIPIO']).sum().reset_index()\n",
    "hom13=hom13.set_index(['id'])\n",
    "hom13=hom13[hom13.year == 2013]\n",
    "hom13=hom13.rename(columns = {'total':'homicidios'})"
   ]
  },
  {
   "cell_type": "code",
   "execution_count": 29,
   "metadata": {
    "collapsed": false
   },
   "outputs": [],
   "source": [
    "pop=pd.read_csv(\"pop.csv\", index_col = \"id\", parse_dates = [\"id\"], encoding='iso-8859-1')\n",
    "pop=pop.drop('hom', axis=1)\n",
    "pop=pop.drop('muj', axis=1)"
   ]
  },
  {
   "cell_type": "code",
   "execution_count": 39,
   "metadata": {
    "collapsed": false
   },
   "outputs": [],
   "source": [
    "tot13 = pd.concat([hom13, pop], axis=1)\n",
    "tot13= tot13.drop('nom', axis=1)\n",
    "tot13['hom_rate'] = (tot13['homicidios']/tot13['pop'])*100000"
   ]
  },
  {
   "cell_type": "code",
   "execution_count": 40,
   "metadata": {
    "collapsed": false
   },
   "outputs": [],
   "source": [
    "x31_13 = pd.read_csv(\"3x1_2013utf8.csv\", index_col = \"id\", parse_dates = [\"id\"])\n",
    "x31_13 = x31_13.drop('ClaveEntidad', axis=1)\n",
    "x31_13 = x31_13.drop('ClaveMunicipio', axis=1)\n",
    "x31_13 = x31_13.drop('ClaveLocalidad', axis=1)\n",
    "x31_13 = x31_13.drop('NombreLocalidad', axis=1)\n",
    "x31_13 = x31_13.drop('ID_LOC', axis=1)\n",
    "x31_13 = x31_13.groupby([x31_13 .index,'year']).sum()\n",
    "x31_13 = x31_13.rename(columns = {'serviciosComunitarios':'Servicios Comunitarios'})\n",
    "x31_13 = x31_13.rename(columns = {'infraestructura':'Infraestructura'})\n",
    "x31_13 = x31_13.rename(columns = {'proyectosProductivos':'Proyectos Productivos'})"
   ]
  },
  {
   "cell_type": "code",
   "execution_count": 41,
   "metadata": {
    "collapsed": false
   },
   "outputs": [],
   "source": [
    "tot13 = tot13.join(x31_13)"
   ]
  },
  {
   "cell_type": "code",
   "execution_count": 42,
   "metadata": {
    "collapsed": false
   },
   "outputs": [],
   "source": [
    "tot13 = tot13.rename(columns = {'suma':'Total 3x1'})\n",
    "tot13 = tot13.drop('homicidios',axis=1)\n",
    "tot13 = tot13.drop('pop',axis=1)\n",
    "tot13 = tot13.drop('year',axis=1)\n"
   ]
  },
  {
   "cell_type": "code",
   "execution_count": 43,
   "metadata": {
    "collapsed": false
   },
   "outputs": [],
   "source": [
    "tot13 = tot13.reset_index()\n",
    "tot13 = tot13.set_index(['id'])"
   ]
  },
  {
   "cell_type": "code",
   "execution_count": 44,
   "metadata": {
    "collapsed": false,
    "scrolled": true
   },
   "outputs": [
    {
     "data": {
      "text/html": [
       "<div>\n",
       "<table border=\"1\" class=\"dataframe\">\n",
       "  <thead>\n",
       "    <tr style=\"text-align: right;\">\n",
       "      <th></th>\n",
       "      <th>year</th>\n",
       "      <th>ENTIDAD</th>\n",
       "      <th>MUNICIPIO</th>\n",
       "      <th>hom_rate</th>\n",
       "      <th>Servicios Comunitarios</th>\n",
       "      <th>Infraestructura</th>\n",
       "      <th>Proyectos Productivos</th>\n",
       "      <th>Total 3x1</th>\n",
       "    </tr>\n",
       "    <tr>\n",
       "      <th>id</th>\n",
       "      <th></th>\n",
       "      <th></th>\n",
       "      <th></th>\n",
       "      <th></th>\n",
       "      <th></th>\n",
       "      <th></th>\n",
       "      <th></th>\n",
       "      <th></th>\n",
       "    </tr>\n",
       "  </thead>\n",
       "  <tbody>\n",
       "    <tr>\n",
       "      <th>1001</th>\n",
       "      <td>2013</td>\n",
       "      <td>AGUASCALIENTES</td>\n",
       "      <td>AGUASCALIENTES</td>\n",
       "      <td>2.383910</td>\n",
       "      <td>2</td>\n",
       "      <td>4</td>\n",
       "      <td>0</td>\n",
       "      <td>6</td>\n",
       "    </tr>\n",
       "    <tr>\n",
       "      <th>1002</th>\n",
       "      <td>2013</td>\n",
       "      <td>AGUASCALIENTES</td>\n",
       "      <td>ASIENTOS</td>\n",
       "      <td>10.990943</td>\n",
       "      <td>1</td>\n",
       "      <td>1</td>\n",
       "      <td>0</td>\n",
       "      <td>2</td>\n",
       "    </tr>\n",
       "    <tr>\n",
       "      <th>1003</th>\n",
       "      <td>2013</td>\n",
       "      <td>AGUASCALIENTES</td>\n",
       "      <td>CALVILLO</td>\n",
       "      <td>0.000000</td>\n",
       "      <td>2</td>\n",
       "      <td>11</td>\n",
       "      <td>4</td>\n",
       "      <td>17</td>\n",
       "    </tr>\n",
       "    <tr>\n",
       "      <th>1004</th>\n",
       "      <td>2013</td>\n",
       "      <td>AGUASCALIENTES</td>\n",
       "      <td>COSIO</td>\n",
       "      <td>0.000000</td>\n",
       "      <td>1</td>\n",
       "      <td>1</td>\n",
       "      <td>0</td>\n",
       "      <td>2</td>\n",
       "    </tr>\n",
       "    <tr>\n",
       "      <th>1006</th>\n",
       "      <td>2013</td>\n",
       "      <td>AGUASCALIENTES</td>\n",
       "      <td>PABELLON DE ARTEAGA</td>\n",
       "      <td>2.388801</td>\n",
       "      <td>1</td>\n",
       "      <td>0</td>\n",
       "      <td>0</td>\n",
       "      <td>1</td>\n",
       "    </tr>\n",
       "    <tr>\n",
       "      <th>1007</th>\n",
       "      <td>2013</td>\n",
       "      <td>AGUASCALIENTES</td>\n",
       "      <td>RINCON DE ROMOS</td>\n",
       "      <td>4.068679</td>\n",
       "      <td>1</td>\n",
       "      <td>1</td>\n",
       "      <td>0</td>\n",
       "      <td>2</td>\n",
       "    </tr>\n",
       "    <tr>\n",
       "      <th>1008</th>\n",
       "      <td>2013</td>\n",
       "      <td>AGUASCALIENTES</td>\n",
       "      <td>SAN JOSE DE GRACIA</td>\n",
       "      <td>0.000000</td>\n",
       "      <td>1</td>\n",
       "      <td>3</td>\n",
       "      <td>0</td>\n",
       "      <td>4</td>\n",
       "    </tr>\n",
       "    <tr>\n",
       "      <th>1009</th>\n",
       "      <td>2013</td>\n",
       "      <td>AGUASCALIENTES</td>\n",
       "      <td>TEPEZALA</td>\n",
       "      <td>0.000000</td>\n",
       "      <td>1</td>\n",
       "      <td>0</td>\n",
       "      <td>0</td>\n",
       "      <td>1</td>\n",
       "    </tr>\n",
       "    <tr>\n",
       "      <th>2001</th>\n",
       "      <td>2013</td>\n",
       "      <td>BAJA CALIFORNIA</td>\n",
       "      <td>ENSENADA</td>\n",
       "      <td>10.282468</td>\n",
       "      <td>0</td>\n",
       "      <td>0</td>\n",
       "      <td>1</td>\n",
       "      <td>1</td>\n",
       "    </tr>\n",
       "    <tr>\n",
       "      <th>2004</th>\n",
       "      <td>2013</td>\n",
       "      <td>BAJA CALIFORNIA</td>\n",
       "      <td>TIJUANA</td>\n",
       "      <td>31.544872</td>\n",
       "      <td>12</td>\n",
       "      <td>3</td>\n",
       "      <td>2</td>\n",
       "      <td>17</td>\n",
       "    </tr>\n",
       "  </tbody>\n",
       "</table>\n",
       "</div>"
      ],
      "text/plain": [
       "      year          ENTIDAD            MUNICIPIO   hom_rate  \\\n",
       "id                                                            \n",
       "1001  2013   AGUASCALIENTES       AGUASCALIENTES   2.383910   \n",
       "1002  2013   AGUASCALIENTES             ASIENTOS  10.990943   \n",
       "1003  2013   AGUASCALIENTES             CALVILLO   0.000000   \n",
       "1004  2013   AGUASCALIENTES                COSIO   0.000000   \n",
       "1006  2013   AGUASCALIENTES  PABELLON DE ARTEAGA   2.388801   \n",
       "1007  2013   AGUASCALIENTES      RINCON DE ROMOS   4.068679   \n",
       "1008  2013   AGUASCALIENTES   SAN JOSE DE GRACIA   0.000000   \n",
       "1009  2013   AGUASCALIENTES             TEPEZALA   0.000000   \n",
       "2001  2013  BAJA CALIFORNIA             ENSENADA  10.282468   \n",
       "2004  2013  BAJA CALIFORNIA              TIJUANA  31.544872   \n",
       "\n",
       "      Servicios Comunitarios  Infraestructura  Proyectos Productivos  \\\n",
       "id                                                                     \n",
       "1001                       2                4                      0   \n",
       "1002                       1                1                      0   \n",
       "1003                       2               11                      4   \n",
       "1004                       1                1                      0   \n",
       "1006                       1                0                      0   \n",
       "1007                       1                1                      0   \n",
       "1008                       1                3                      0   \n",
       "1009                       1                0                      0   \n",
       "2001                       0                0                      1   \n",
       "2004                      12                3                      2   \n",
       "\n",
       "      Total 3x1  \n",
       "id               \n",
       "1001          6  \n",
       "1002          2  \n",
       "1003         17  \n",
       "1004          2  \n",
       "1006          1  \n",
       "1007          2  \n",
       "1008          4  \n",
       "1009          1  \n",
       "2001          1  \n",
       "2004         17  "
      ]
     },
     "execution_count": 44,
     "metadata": {},
     "output_type": "execute_result"
    }
   ],
   "source": [
    "tot13.head(10)"
   ]
  },
  {
   "cell_type": "markdown",
   "metadata": {},
   "source": []
  },
  {
   "cell_type": "code",
   "execution_count": 45,
   "metadata": {
    "collapsed": false
   },
   "outputs": [
    {
     "data": {
      "text/plain": [
       "<matplotlib.axes._subplots.AxesSubplot at 0x6de9fd0>"
      ]
     },
     "execution_count": 45,
     "metadata": {},
     "output_type": "execute_result"
    },
    {
     "data": {
      "image/png": "[encoded data removed]",
      "text/plain": [
       "<matplotlib.figure.Figure at 0x6c37f98>"
      ]
     },
     "metadata": {},
     "output_type": "display_data"
    }
   ],
   "source": [
    "tot13.plot(kind = \"scatter\", x = \"Total 3x1\", y = \"hom_rate\")"
   ]
  },
  {
   "cell_type": "code",
   "execution_count": 46,
   "metadata": {
    "collapsed": true
   },
   "outputs": [],
   "source": [
    "tot13.to_csv('hom_3x1_13.csv')"
   ]
  },
  {
   "cell_type": "code",
   "execution_count": null,
   "metadata": {
    "collapsed": true
   },
   "outputs": [],
   "source": []
  }
 ],
 "metadata": {
  "anaconda-cloud": {},
  "kernelspec": {
   "display_name": "Python [p34-geo-new]",
   "language": "python",
   "name": "Python [p34-geo-new]"
  },
  "language_info": {
   "codemirror_mode": {
    "name": "ipython",
    "version": 3
   },
   "file_extension": ".py",
   "mimetype": "text/x-python",
   "name": "python",
   "nbconvert_exporter": "python",
   "pygments_lexer": "ipython3",
   "version": "3.4.5"
  }
 },
 "nbformat": 4,
 "nbformat_minor": 0
}
