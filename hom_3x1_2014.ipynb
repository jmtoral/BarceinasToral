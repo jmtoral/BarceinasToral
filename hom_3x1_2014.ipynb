{
 "cells": [
  {
   "cell_type": "code",
   "execution_count": 46,
   "metadata": {
    "collapsed": false
   },
   "outputs": [],
   "source": [
    "%matplotlib inline\n",
    "\n",
    "import pandas as pd\n",
    "\n",
    "# these will be useful later\n",
    "import numpy  as np\n",
    "from matplotlib import pyplot as plt"
   ]
  },
  {
   "cell_type": "code",
   "execution_count": 47,
   "metadata": {
    "collapsed": false,
    "scrolled": true
   },
   "outputs": [],
   "source": [
    "crime=pd.read_csv(\"mun.csv\", index_col = \"id\", parse_dates = [\"id\"], encoding='iso-8859-1')\n",
    "crime=crime.drop('SUBTIPO', axis=1)\n"
   ]
  },
  {
   "cell_type": "code",
   "execution_count": 48,
   "metadata": {
    "collapsed": false,
    "scrolled": true
   },
   "outputs": [],
   "source": [
    "hom14= crime[(crime['MODALIDAD']=='HOMICIDIOS') & (crime['TIPO'] == 'DOLOSOS' )]\n",
    "hom14= hom14.groupby([hom14.index,'year','ENTIDAD', 'MUNICIPIO']).sum().reset_index()\n",
    "hom14=hom14.set_index(['id'])\n",
    "hom14=hom14[hom14.year == 2014]\n",
    "hom14=hom14.rename(columns = {'total':'homicidios'})\n"
   ]
  },
  {
   "cell_type": "code",
   "execution_count": 49,
   "metadata": {
    "collapsed": false
   },
   "outputs": [],
   "source": [
    "pop=pd.read_csv(\"pop.csv\", index_col = \"id\", parse_dates = [\"id\"], encoding='iso-8859-1')\n",
    "pop=pop.drop('hom', axis=1)\n",
    "pop=pop.drop('muj', axis=1)\n"
   ]
  },
  {
   "cell_type": "code",
   "execution_count": 50,
   "metadata": {
    "collapsed": false
   },
   "outputs": [],
   "source": [
    "tot14 = pd.concat([hom14, pop], axis=1)\n",
    "tot14= tot14.drop('nom', axis=1)\n",
    "tot14['hom_rate'] = (tot14['homicidios']/tot14['pop'])*100000\n"
   ]
  },
  {
   "cell_type": "code",
   "execution_count": 51,
   "metadata": {
    "collapsed": false
   },
   "outputs": [],
   "source": [
    "x31_14 = pd.read_csv(\"3x1_2014utf8.csv\", index_col = \"id\", parse_dates = [\"id\"])\n",
    "x31_14 = x31_14.drop('ClaveEntidad', axis=1)\n",
    "x31_14 = x31_14.drop('ClaveMunicipio', axis=1)\n",
    "x31_14 = x31_14.drop('ClaveLocalidad', axis=1)\n",
    "x31_14 = x31_14.drop('NombreLocalidad', axis=1)\n",
    "x31_14 = x31_14.drop('ID_LOC', axis=1)\n",
    "x31_14 = x31_14.groupby([x31_14.index,'year']).sum()\n",
    "x31_14 = x31_14.rename(columns = {'serviciosComunitarios':'Servicios Comunitarios'})\n",
    "x31_14 = x31_14.rename(columns = {'infraestructura':'Infraestructura'})\n",
    "x31_14 = x31_14.rename(columns = {'proyectosProductivos':'Proyectos Productivos'})\n"
   ]
  },
  {
   "cell_type": "code",
   "execution_count": 52,
   "metadata": {
    "collapsed": false
   },
   "outputs": [
    {
     "data": {
      "text/html": [
       "<div>\n",
       "<table border=\"1\" class=\"dataframe\">\n",
       "  <thead>\n",
       "    <tr style=\"text-align: right;\">\n",
       "      <th></th>\n",
       "      <th></th>\n",
       "      <th>year</th>\n",
       "      <th>ENTIDAD</th>\n",
       "      <th>MUNICIPIO</th>\n",
       "      <th>homicidios</th>\n",
       "      <th>pop</th>\n",
       "      <th>hom_rate</th>\n",
       "      <th>Servicios Comunitarios</th>\n",
       "      <th>Infraestructura</th>\n",
       "      <th>Proyectos Productivos</th>\n",
       "      <th>suma</th>\n",
       "    </tr>\n",
       "    <tr>\n",
       "      <th>id</th>\n",
       "      <th>year</th>\n",
       "      <th></th>\n",
       "      <th></th>\n",
       "      <th></th>\n",
       "      <th></th>\n",
       "      <th></th>\n",
       "      <th></th>\n",
       "      <th></th>\n",
       "      <th></th>\n",
       "      <th></th>\n",
       "      <th></th>\n",
       "    </tr>\n",
       "  </thead>\n",
       "  <tbody>\n",
       "    <tr>\n",
       "      <th>1001</th>\n",
       "      <th>2014</th>\n",
       "      <td>2014.0</td>\n",
       "      <td>AGUASCALIENTES</td>\n",
       "      <td>AGUASCALIENTES</td>\n",
       "      <td>31.0</td>\n",
       "      <td>797010.0</td>\n",
       "      <td>3.889537</td>\n",
       "      <td>1</td>\n",
       "      <td>4</td>\n",
       "      <td>1</td>\n",
       "      <td>6</td>\n",
       "    </tr>\n",
       "    <tr>\n",
       "      <th>1002</th>\n",
       "      <th>2014</th>\n",
       "      <td>2014.0</td>\n",
       "      <td>AGUASCALIENTES</td>\n",
       "      <td>ASIENTOS</td>\n",
       "      <td>0.0</td>\n",
       "      <td>45492.0</td>\n",
       "      <td>0.000000</td>\n",
       "      <td>2</td>\n",
       "      <td>6</td>\n",
       "      <td>1</td>\n",
       "      <td>9</td>\n",
       "    </tr>\n",
       "    <tr>\n",
       "      <th>1003</th>\n",
       "      <th>2014</th>\n",
       "      <td>2014.0</td>\n",
       "      <td>AGUASCALIENTES</td>\n",
       "      <td>CALVILLO</td>\n",
       "      <td>2.0</td>\n",
       "      <td>54136.0</td>\n",
       "      <td>3.694399</td>\n",
       "      <td>3</td>\n",
       "      <td>2</td>\n",
       "      <td>5</td>\n",
       "      <td>10</td>\n",
       "    </tr>\n",
       "    <tr>\n",
       "      <th>1004</th>\n",
       "      <th>2014</th>\n",
       "      <td>2014.0</td>\n",
       "      <td>AGUASCALIENTES</td>\n",
       "      <td>COSIO</td>\n",
       "      <td>0.0</td>\n",
       "      <td>15042.0</td>\n",
       "      <td>0.000000</td>\n",
       "      <td>2</td>\n",
       "      <td>3</td>\n",
       "      <td>0</td>\n",
       "      <td>5</td>\n",
       "    </tr>\n",
       "    <tr>\n",
       "      <th>1005</th>\n",
       "      <th>2014</th>\n",
       "      <td>2014.0</td>\n",
       "      <td>AGUASCALIENTES</td>\n",
       "      <td>JESUS MARIA</td>\n",
       "      <td>6.0</td>\n",
       "      <td>99590.0</td>\n",
       "      <td>6.024701</td>\n",
       "      <td>0</td>\n",
       "      <td>0</td>\n",
       "      <td>2</td>\n",
       "      <td>2</td>\n",
       "    </tr>\n",
       "  </tbody>\n",
       "</table>\n",
       "</div>"
      ],
      "text/plain": [
       "             year         ENTIDAD       MUNICIPIO  homicidios       pop  \\\n",
       "id   year                                                                 \n",
       "1001 2014  2014.0  AGUASCALIENTES  AGUASCALIENTES        31.0  797010.0   \n",
       "1002 2014  2014.0  AGUASCALIENTES        ASIENTOS         0.0   45492.0   \n",
       "1003 2014  2014.0  AGUASCALIENTES        CALVILLO         2.0   54136.0   \n",
       "1004 2014  2014.0  AGUASCALIENTES           COSIO         0.0   15042.0   \n",
       "1005 2014  2014.0  AGUASCALIENTES     JESUS MARIA         6.0   99590.0   \n",
       "\n",
       "           hom_rate  Servicios Comunitarios  Infraestructura  \\\n",
       "id   year                                                      \n",
       "1001 2014  3.889537                       1                4   \n",
       "1002 2014  0.000000                       2                6   \n",
       "1003 2014  3.694399                       3                2   \n",
       "1004 2014  0.000000                       2                3   \n",
       "1005 2014  6.024701                       0                0   \n",
       "\n",
       "           Proyectos Productivos  suma  \n",
       "id   year                               \n",
       "1001 2014                      1     6  \n",
       "1002 2014                      1     9  \n",
       "1003 2014                      5    10  \n",
       "1004 2014                      0     5  \n",
       "1005 2014                      2     2  "
      ]
     },
     "execution_count": 52,
     "metadata": {},
     "output_type": "execute_result"
    }
   ],
   "source": [
    "tot14 = tot14.join(x31_14)\n",
    "tot14.head()"
   ]
  },
  {
   "cell_type": "code",
   "execution_count": 53,
   "metadata": {
    "collapsed": false
   },
   "outputs": [],
   "source": [
    "tot14 = tot14.rename(columns = {'suma':'Total 3x1'})\n",
    "tot14=tot14.drop('homicidios',axis=1)\n",
    "tot14=tot14.drop('pop',axis=1)\n",
    "tot14=tot14.drop('year',axis=1)\n",
    "\n"
   ]
  },
  {
   "cell_type": "code",
   "execution_count": 54,
   "metadata": {
    "collapsed": false
   },
   "outputs": [],
   "source": [
    "tot14=tot14.reset_index()\n",
    "tot14=tot14.set_index(['id'])"
   ]
  },
  {
   "cell_type": "code",
   "execution_count": 55,
   "metadata": {
    "collapsed": false,
    "scrolled": true
   },
   "outputs": [
    {
     "data": {
      "text/html": [
       "<div>\n",
       "<table border=\"1\" class=\"dataframe\">\n",
       "  <thead>\n",
       "    <tr style=\"text-align: right;\">\n",
       "      <th></th>\n",
       "      <th>year</th>\n",
       "      <th>ENTIDAD</th>\n",
       "      <th>MUNICIPIO</th>\n",
       "      <th>hom_rate</th>\n",
       "      <th>Servicios Comunitarios</th>\n",
       "      <th>Infraestructura</th>\n",
       "      <th>Proyectos Productivos</th>\n",
       "      <th>Total 3x1</th>\n",
       "    </tr>\n",
       "    <tr>\n",
       "      <th>id</th>\n",
       "      <th></th>\n",
       "      <th></th>\n",
       "      <th></th>\n",
       "      <th></th>\n",
       "      <th></th>\n",
       "      <th></th>\n",
       "      <th></th>\n",
       "      <th></th>\n",
       "    </tr>\n",
       "  </thead>\n",
       "  <tbody>\n",
       "    <tr>\n",
       "      <th>1001</th>\n",
       "      <td>2014</td>\n",
       "      <td>AGUASCALIENTES</td>\n",
       "      <td>AGUASCALIENTES</td>\n",
       "      <td>3.889537</td>\n",
       "      <td>1</td>\n",
       "      <td>4</td>\n",
       "      <td>1</td>\n",
       "      <td>6</td>\n",
       "    </tr>\n",
       "    <tr>\n",
       "      <th>1002</th>\n",
       "      <td>2014</td>\n",
       "      <td>AGUASCALIENTES</td>\n",
       "      <td>ASIENTOS</td>\n",
       "      <td>0.000000</td>\n",
       "      <td>2</td>\n",
       "      <td>6</td>\n",
       "      <td>1</td>\n",
       "      <td>9</td>\n",
       "    </tr>\n",
       "    <tr>\n",
       "      <th>1003</th>\n",
       "      <td>2014</td>\n",
       "      <td>AGUASCALIENTES</td>\n",
       "      <td>CALVILLO</td>\n",
       "      <td>3.694399</td>\n",
       "      <td>3</td>\n",
       "      <td>2</td>\n",
       "      <td>5</td>\n",
       "      <td>10</td>\n",
       "    </tr>\n",
       "    <tr>\n",
       "      <th>1004</th>\n",
       "      <td>2014</td>\n",
       "      <td>AGUASCALIENTES</td>\n",
       "      <td>COSIO</td>\n",
       "      <td>0.000000</td>\n",
       "      <td>2</td>\n",
       "      <td>3</td>\n",
       "      <td>0</td>\n",
       "      <td>5</td>\n",
       "    </tr>\n",
       "    <tr>\n",
       "      <th>1005</th>\n",
       "      <td>2014</td>\n",
       "      <td>AGUASCALIENTES</td>\n",
       "      <td>JESUS MARIA</td>\n",
       "      <td>6.024701</td>\n",
       "      <td>0</td>\n",
       "      <td>0</td>\n",
       "      <td>2</td>\n",
       "      <td>2</td>\n",
       "    </tr>\n",
       "    <tr>\n",
       "      <th>1006</th>\n",
       "      <td>2014</td>\n",
       "      <td>AGUASCALIENTES</td>\n",
       "      <td>PABELLON DE ARTEAGA</td>\n",
       "      <td>0.000000</td>\n",
       "      <td>1</td>\n",
       "      <td>0</td>\n",
       "      <td>0</td>\n",
       "      <td>1</td>\n",
       "    </tr>\n",
       "    <tr>\n",
       "      <th>1007</th>\n",
       "      <td>2014</td>\n",
       "      <td>AGUASCALIENTES</td>\n",
       "      <td>RINCON DE ROMOS</td>\n",
       "      <td>2.034340</td>\n",
       "      <td>1</td>\n",
       "      <td>2</td>\n",
       "      <td>0</td>\n",
       "      <td>3</td>\n",
       "    </tr>\n",
       "    <tr>\n",
       "      <th>1008</th>\n",
       "      <td>2014</td>\n",
       "      <td>AGUASCALIENTES</td>\n",
       "      <td>SAN JOSE DE GRACIA</td>\n",
       "      <td>0.000000</td>\n",
       "      <td>1</td>\n",
       "      <td>2</td>\n",
       "      <td>0</td>\n",
       "      <td>3</td>\n",
       "    </tr>\n",
       "    <tr>\n",
       "      <th>1009</th>\n",
       "      <td>2014</td>\n",
       "      <td>AGUASCALIENTES</td>\n",
       "      <td>TEPEZALA</td>\n",
       "      <td>0.000000</td>\n",
       "      <td>2</td>\n",
       "      <td>1</td>\n",
       "      <td>1</td>\n",
       "      <td>4</td>\n",
       "    </tr>\n",
       "    <tr>\n",
       "      <th>1011</th>\n",
       "      <td>2014</td>\n",
       "      <td>AGUASCALIENTES</td>\n",
       "      <td>SAN FRANCISCO DE LOS ROMO</td>\n",
       "      <td>2.795717</td>\n",
       "      <td>1</td>\n",
       "      <td>0</td>\n",
       "      <td>0</td>\n",
       "      <td>1</td>\n",
       "    </tr>\n",
       "  </tbody>\n",
       "</table>\n",
       "</div>"
      ],
      "text/plain": [
       "      year         ENTIDAD                  MUNICIPIO  hom_rate  \\\n",
       "id                                                                \n",
       "1001  2014  AGUASCALIENTES             AGUASCALIENTES  3.889537   \n",
       "1002  2014  AGUASCALIENTES                   ASIENTOS  0.000000   \n",
       "1003  2014  AGUASCALIENTES                   CALVILLO  3.694399   \n",
       "1004  2014  AGUASCALIENTES                      COSIO  0.000000   \n",
       "1005  2014  AGUASCALIENTES                JESUS MARIA  6.024701   \n",
       "1006  2014  AGUASCALIENTES        PABELLON DE ARTEAGA  0.000000   \n",
       "1007  2014  AGUASCALIENTES            RINCON DE ROMOS  2.034340   \n",
       "1008  2014  AGUASCALIENTES         SAN JOSE DE GRACIA  0.000000   \n",
       "1009  2014  AGUASCALIENTES                   TEPEZALA  0.000000   \n",
       "1011  2014  AGUASCALIENTES  SAN FRANCISCO DE LOS ROMO  2.795717   \n",
       "\n",
       "      Servicios Comunitarios  Infraestructura  Proyectos Productivos  \\\n",
       "id                                                                     \n",
       "1001                       1                4                      1   \n",
       "1002                       2                6                      1   \n",
       "1003                       3                2                      5   \n",
       "1004                       2                3                      0   \n",
       "1005                       0                0                      2   \n",
       "1006                       1                0                      0   \n",
       "1007                       1                2                      0   \n",
       "1008                       1                2                      0   \n",
       "1009                       2                1                      1   \n",
       "1011                       1                0                      0   \n",
       "\n",
       "      Total 3x1  \n",
       "id               \n",
       "1001          6  \n",
       "1002          9  \n",
       "1003         10  \n",
       "1004          5  \n",
       "1005          2  \n",
       "1006          1  \n",
       "1007          3  \n",
       "1008          3  \n",
       "1009          4  \n",
       "1011          1  "
      ]
     },
     "execution_count": 55,
     "metadata": {},
     "output_type": "execute_result"
    }
   ],
   "source": [
    "tot14.head(10)"
   ]
  },
  {
   "cell_type": "markdown",
   "metadata": {},
   "source": []
  },
  {
   "cell_type": "code",
   "execution_count": 56,
   "metadata": {
    "collapsed": false
   },
   "outputs": [
    {
     "data": {
      "text/plain": [
       "<matplotlib.axes._subplots.AxesSubplot at 0xa7fbe80>"
      ]
     },
     "execution_count": 56,
     "metadata": {},
     "output_type": "execute_result"
    },
    {
     "data": {
      "image/png": "[encoded data removed]",
      "text/plain": [
       "<matplotlib.figure.Figure at 0x536eac8>"
      ]
     },
     "metadata": {},
     "output_type": "display_data"
    }
   ],
   "source": [
    "tot14.plot(kind = \"scatter\", x = \"Total 3x1\", y = \"hom_rate\")"
   ]
  },
  {
   "cell_type": "code",
   "execution_count": 57,
   "metadata": {
    "collapsed": false
   },
   "outputs": [],
   "source": [
    "tot14.to_csv('hom_3x1_14pan.csv')"
   ]
  },
  {
   "cell_type": "code",
   "execution_count": null,
   "metadata": {
    "collapsed": true
   },
   "outputs": [],
   "source": []
  }
 ],
 "metadata": {
  "anaconda-cloud": {},
  "kernelspec": {
   "display_name": "Python [p34-geo-new]",
   "language": "python",
   "name": "Python [p34-geo-new]"
  },
  "language_info": {
   "codemirror_mode": {
    "name": "ipython",
    "version": 3
   },
   "file_extension": ".py",
   "mimetype": "text/x-python",
   "name": "python",
   "nbconvert_exporter": "python",
   "pygments_lexer": "ipython3",
   "version": "3.4.5"
  }
 },
 "nbformat": 4,
 "nbformat_minor": 0
}
