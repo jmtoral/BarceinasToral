{
 "cells": [
  {
   "cell_type": "code",
   "execution_count": 6,
   "metadata": {
    "collapsed": false
   },
   "outputs": [],
   "source": [
    "%matplotlib inline\n",
    "import geopandas as gpd\n",
    "import requests, pandas as pd\n",
    "import matplotlib.pyplot as plt\n",
    "import pandas as pd, geopandas as gpd\n",
    "import csv"
   ]
  },
  {
   "cell_type": "code",
   "execution_count": null,
   "metadata": {
    "collapsed": false
   },
   "outputs": [],
   "source": [
    "import csv\n",
    "reader = csv.reader(open('edoss.csv'))\n",
    "d={}\n",
    "for row in reader:\n",
    "    d[row[0]]=row[1]"
   ]
  },
  {
   "cell_type": "code",
   "execution_count": null,
   "metadata": {
    "collapsed": false
   },
   "outputs": [],
   "source": [
    "print(d)"
   ]
  },
  {
   "cell_type": "code",
   "execution_count": null,
   "metadata": {
    "collapsed": false
   },
   "outputs": [],
   "source": [
    "states = pd.read_csv(\"muni_notilde1.csv\", index_col = \"NOM_ENT\", usecols= {\"NOM_ENT\", \"NOM_ENTC\"})\n",
    "#states = states.groupby(states.index).apply\n",
    "states = states.drop_duplicates(subset = \"NOM_ENTC\", keep = 'first')\n",
    "#states.to_csv('nom.csv')\n",
    "states.head(5)"
   ]
  },
  {
   "cell_type": "code",
   "execution_count": 80,
   "metadata": {
    "collapsed": false
   },
   "outputs": [
    {
     "name": "stdout",
     "output_type": "stream",
     "text": [
      "[['NOM_ENT', 'NOM_ENTC'], ['AGS', 'Aguascalientes'], ['BC', 'Baja California'], ['BCS', 'Baja California Sur'], ['CAM', 'Campeche'], ['COAH ', 'Coahuila de Zaragoza'], ['COL', 'Colima'], ['CHIS', 'Chiapas'], ['CHI', 'Chihuahua'], ['CDMX', 'Ciudad de Mexico'], ['DUR', 'Durango'], ['GTO', 'Guanajuato'], ['GRO', 'Guerrero'], ['HGO', 'Hidalgo'], ['JAL', 'Jalisco'], ['EDOMEX', 'Mexico'], ['MICH ', 'Michoacan de Ocampo'], ['MOR', 'Morelos'], ['NAY', 'Nayarit'], ['NL', 'Nuevo Leon'], ['OAX', 'Oaxaca'], ['PUE', 'Puebla'], ['QRO', 'Queretaro'], ['QROO', 'Quintana Roo'], ['SLP', 'San Luis Potosi'], ['SIN', 'Sinaloa'], ['SON', 'Sonora'], ['TAB', 'Tabasco'], ['TAM', 'Tamaulipas'], ['TLAX', 'Tlaxcala'], ['VER', 'Veracruz de Ignacio de la Llave'], ['YUC', 'Yucatan'], ['ZAC', 'Zacatecas']]\n"
     ]
    }
   ],
   "source": [
    "with open('nom.csv') as f:\n",
    "    reader = csv.reader(f)\n",
    "    your_list = list(reader)\n",
    "\n",
    "print (your_list)"
   ]
  },
  {
   "cell_type": "code",
   "execution_count": null,
   "metadata": {
    "collapsed": false
   },
   "outputs": [],
   "source": []
  },
  {
   "cell_type": "code",
   "execution_count": null,
   "metadata": {
    "collapsed": true
   },
   "outputs": [],
   "source": []
  }
 ],
 "metadata": {
  "anaconda-cloud": {},
  "kernelspec": {
   "display_name": "Python [p34-geo-new]",
   "language": "python",
   "name": "Python [p34-geo-new]"
  }
 },
 "nbformat": 4,
 "nbformat_minor": 0
}
